{
 "cells": [
  {
   "cell_type": "markdown",
   "metadata": {},
   "source": [
    "# Capstone Webscrapping using BeautifulSoup\n",
    "\n",
    "This notebook contains guidances & tasks on the data processing for the application\n",
    "\n",
    "## background\n",
    "\n",
    "Tujuan Scraping ini untuk mengambil data Kurs USD selama 6 Bulan Terakhir, dari data tersebut kita bisa mendapatkan insight :\n",
    "*   Fluktuasi Harian/Mingguan/Bulanan\n",
    "*   Perbandingan Value Periode Tertentu\n",
    "*   Korelasi Dengan Peristiwa Ekonomi yang mempengaruhi naik turun kurs yang cukup signifikan\n",
    "\n",
    "## Requesting the Data and Creating a BeautifulSoup\n",
    "\n",
    "Let's begin with requesting the web from the site with `get` method."
   ]
  },
  {
   "cell_type": "code",
   "execution_count": 65,
   "metadata": {
    "ExecuteTime": {
     "end_time": "2020-01-13T05:12:23.275508Z",
     "start_time": "2020-01-13T05:12:20.009898Z"
    }
   },
   "outputs": [],
   "source": [
    "import requests\n",
    "import pandas as pd\n",
    "from bs4 import BeautifulSoup\n",
    "pd.options.display.float_format = '{:,.2f}'.format \n",
    "\n",
    "url_get = requests.get('https://www.exchange-rates.org/exchange-rate-history/usd-idr').text"
   ]
  },
  {
   "cell_type": "markdown",
   "metadata": {},
   "source": [
    "As we can see we get a very unstructured and complex html, which actually contains the codes needed to show the webpages on your web browser. But we as human still confused what and where we can use that piece of code, so here where we use the beautifulsoup. Beautiful soup class will result a beautifulsoup object. Beautiful Soup transforms a complex HTML document into a complex tree of Python objects. \n",
    "\n",
    "Let's make Beautiful soup object and feel free to explore the object here."
   ]
  },
  {
   "cell_type": "code",
   "execution_count": 66,
   "metadata": {
    "ExecuteTime": {
     "end_time": "2020-01-13T05:12:23.808122Z",
     "start_time": "2020-01-13T05:12:23.292610Z"
    }
   },
   "outputs": [],
   "source": [
    "soup = BeautifulSoup(url_get,\"html.parser\")\n"
   ]
  },
  {
   "cell_type": "markdown",
   "metadata": {},
   "source": [
    "## Finding the right key to scrap the data & Extracting the right information"
   ]
  },
  {
   "cell_type": "markdown",
   "metadata": {},
   "source": [
    "Find the key and put the key into the `.find()` Put all the exploring the right key at this cell. (please change this markdown with your explanation)"
   ]
  },
  {
   "cell_type": "code",
   "execution_count": 67,
   "metadata": {
    "ExecuteTime": {
     "end_time": "2020-01-13T05:12:23.878904Z",
     "start_time": "2020-01-13T05:12:23.854974Z"
    }
   },
   "outputs": [],
   "source": [
    "table = soup.find_all('table', \n",
    "                       attrs={'class': 'history-rates-data'})\n",
    "# Get the table rows\n",
    "tr_lists = table[0].tbody.find_all('tr')\n",
    "\n",
    "# Get the table columns\n",
    "columns = []\n",
    "for row in tr_lists:\n",
    "    columns.append(row.find_all('td'))"
   ]
  },
  {
   "cell_type": "markdown",
   "metadata": {},
   "source": [
    "Do the scrapping process here.\n",
    "\n",
    "Saya membuat Column Temporary dengan nama :\n",
    "*   date\n",
    "*   amount_in_rupiah\n",
    "\n",
    "lalu saya looping based on hasil scraping berdasarkan yang sudah saya define datanya di TR dan TDnya, kemudian saya me-replace value kurs karena pada text html terdapat informasi satuan mata uang dan tanda baca agar mudah saat merubah type datanya"
   ]
  },
  {
   "cell_type": "code",
   "execution_count": 68,
   "metadata": {
    "ExecuteTime": {
     "end_time": "2020-01-13T05:12:24.008256Z",
     "start_time": "2020-01-13T05:12:23.980358Z"
    }
   },
   "outputs": [],
   "source": [
    "# Build the columns\n",
    "date = []\n",
    "amount_in_rupiah = []\n",
    "for i in columns:\n",
    "    try:\n",
    "        date_temp_1 = i[0].find('a', attrs={'class': 'n'}).text\n",
    "        amount_temp_1 = i[1].find('span', attrs={'class': 'n'}).text\n",
    "        date_temp_2 = date_temp_1.replace('-', '')\n",
    "        amount_temp_2 = amount_temp_1.replace(',', '').replace('$1 = Rp', '')\n",
    "\n",
    "        # Append to the list\n",
    "        date.append(date_temp_2)\n",
    "        amount_in_rupiah.append(amount_temp_2)\n",
    "    except:\n",
    "        continue\n"
   ]
  },
  {
   "cell_type": "markdown",
   "metadata": {},
   "source": [
    "## Creating data frame & Data wrangling"
   ]
  },
  {
   "cell_type": "markdown",
   "metadata": {},
   "source": [
    "Put the array into dataframe"
   ]
  },
  {
   "cell_type": "code",
   "execution_count": 69,
   "metadata": {},
   "outputs": [
    {
     "data": {
      "text/html": [
       "<div>\n",
       "<style scoped>\n",
       "    .dataframe tbody tr th:only-of-type {\n",
       "        vertical-align: middle;\n",
       "    }\n",
       "\n",
       "    .dataframe tbody tr th {\n",
       "        vertical-align: top;\n",
       "    }\n",
       "\n",
       "    .dataframe thead th {\n",
       "        text-align: right;\n",
       "    }\n",
       "</style>\n",
       "<table border=\"1\" class=\"dataframe\">\n",
       "  <thead>\n",
       "    <tr style=\"text-align: right;\">\n",
       "      <th></th>\n",
       "      <th>date</th>\n",
       "      <th>amount_in_rupiah</th>\n",
       "    </tr>\n",
       "  </thead>\n",
       "  <tbody>\n",
       "    <tr>\n",
       "      <th>0</th>\n",
       "      <td>20231215</td>\n",
       "      <td>15529</td>\n",
       "    </tr>\n",
       "    <tr>\n",
       "      <th>1</th>\n",
       "      <td>20231214</td>\n",
       "      <td>15476</td>\n",
       "    </tr>\n",
       "    <tr>\n",
       "      <th>2</th>\n",
       "      <td>20231213</td>\n",
       "      <td>15360</td>\n",
       "    </tr>\n",
       "    <tr>\n",
       "      <th>3</th>\n",
       "      <td>20231212</td>\n",
       "      <td>15576</td>\n",
       "    </tr>\n",
       "    <tr>\n",
       "      <th>4</th>\n",
       "      <td>20231211</td>\n",
       "      <td>15653</td>\n",
       "    </tr>\n",
       "    <tr>\n",
       "      <th>...</th>\n",
       "      <td>...</td>\n",
       "      <td>...</td>\n",
       "    </tr>\n",
       "    <tr>\n",
       "      <th>125</th>\n",
       "      <td>2023623</td>\n",
       "      <td>15045</td>\n",
       "    </tr>\n",
       "    <tr>\n",
       "      <th>126</th>\n",
       "      <td>2023622</td>\n",
       "      <td>14939</td>\n",
       "    </tr>\n",
       "    <tr>\n",
       "      <th>127</th>\n",
       "      <td>2023621</td>\n",
       "      <td>14945</td>\n",
       "    </tr>\n",
       "    <tr>\n",
       "      <th>128</th>\n",
       "      <td>2023620</td>\n",
       "      <td>15015</td>\n",
       "    </tr>\n",
       "    <tr>\n",
       "      <th>129</th>\n",
       "      <td>2023619</td>\n",
       "      <td>15014</td>\n",
       "    </tr>\n",
       "  </tbody>\n",
       "</table>\n",
       "<p>130 rows × 2 columns</p>\n",
       "</div>"
      ],
      "text/plain": [
       "         date amount_in_rupiah\n",
       "0    20231215            15529\n",
       "1    20231214            15476\n",
       "2    20231213            15360\n",
       "3    20231212            15576\n",
       "4    20231211            15653\n",
       "..        ...              ...\n",
       "125   2023623            15045\n",
       "126   2023622            14939\n",
       "127   2023621            14945\n",
       "128   2023620            15015\n",
       "129   2023619            15014\n",
       "\n",
       "[130 rows x 2 columns]"
      ]
     },
     "execution_count": 69,
     "metadata": {},
     "output_type": "execute_result"
    }
   ],
   "source": [
    "# crate the dataframe\n",
    "dataframe = {'date': date, \n",
    "             'amount_in_rupiah': amount_in_rupiah}\n",
    "df = pd.DataFrame(dataframe)\n",
    "df"
   ]
  },
  {
   "cell_type": "markdown",
   "metadata": {},
   "source": [
    "Do the data cleaning here :\n",
    "\n",
    "Disini saya cleansing data dengan merubah type data date menjadi datetime64 dan amount menjadi float"
   ]
  },
  {
   "cell_type": "code",
   "execution_count": 70,
   "metadata": {
    "ExecuteTime": {
     "end_time": "2020-01-13T05:12:59.165559Z",
     "start_time": "2020-01-13T05:12:58.910012Z"
    }
   },
   "outputs": [
    {
     "data": {
      "text/html": [
       "<div>\n",
       "<style scoped>\n",
       "    .dataframe tbody tr th:only-of-type {\n",
       "        vertical-align: middle;\n",
       "    }\n",
       "\n",
       "    .dataframe tbody tr th {\n",
       "        vertical-align: top;\n",
       "    }\n",
       "\n",
       "    .dataframe thead th {\n",
       "        text-align: right;\n",
       "    }\n",
       "</style>\n",
       "<table border=\"1\" class=\"dataframe\">\n",
       "  <thead>\n",
       "    <tr style=\"text-align: right;\">\n",
       "      <th></th>\n",
       "      <th>date</th>\n",
       "      <th>amount_in_rupiah</th>\n",
       "    </tr>\n",
       "  </thead>\n",
       "  <tbody>\n",
       "    <tr>\n",
       "      <th>0</th>\n",
       "      <td>2023-12-15</td>\n",
       "      <td>15,529.00</td>\n",
       "    </tr>\n",
       "    <tr>\n",
       "      <th>1</th>\n",
       "      <td>2023-12-14</td>\n",
       "      <td>15,476.00</td>\n",
       "    </tr>\n",
       "    <tr>\n",
       "      <th>2</th>\n",
       "      <td>2023-12-13</td>\n",
       "      <td>15,360.00</td>\n",
       "    </tr>\n",
       "    <tr>\n",
       "      <th>3</th>\n",
       "      <td>2023-12-12</td>\n",
       "      <td>15,576.00</td>\n",
       "    </tr>\n",
       "    <tr>\n",
       "      <th>4</th>\n",
       "      <td>2023-12-11</td>\n",
       "      <td>15,653.00</td>\n",
       "    </tr>\n",
       "  </tbody>\n",
       "</table>\n",
       "</div>"
      ],
      "text/plain": [
       "        date  amount_in_rupiah\n",
       "0 2023-12-15         15,529.00\n",
       "1 2023-12-14         15,476.00\n",
       "2 2023-12-13         15,360.00\n",
       "3 2023-12-12         15,576.00\n",
       "4 2023-12-11         15,653.00"
      ]
     },
     "execution_count": 70,
     "metadata": {},
     "output_type": "execute_result"
    }
   ],
   "source": [
    "df['date'] = df['date'].astype('datetime64[ns]')\n",
    "df['amount_in_rupiah']= df['amount_in_rupiah'].astype('float64')\n",
    "df.head()"
   ]
  },
  {
   "cell_type": "markdown",
   "metadata": {},
   "source": [
    "Data visualisation :\n",
    "\n",
    "Disini saya menggunakan line plot untuk memperlihatkan pergerakan kurs USD to IDR selama 6 Bulan Terakhir based on data scraping"
   ]
  },
  {
   "cell_type": "code",
   "execution_count": 71,
   "metadata": {},
   "outputs": [
    {
     "data": {
      "image/png": "[encoded data removed]",
      "text/plain": [
       "<Figure size 1200x600 with 1 Axes>"
      ]
     },
     "metadata": {},
     "output_type": "display_data"
    }
   ],
   "source": [
    "import matplotlib.pyplot as plt\n",
    "\n",
    "df['date'] = pd.to_datetime(df['date'])\n",
    "plt.figure(figsize=(12, 6))\n",
    "plt.plot(df['date'], df['amount_in_rupiah'], marker='o', linestyle='-', color='b')\n",
    "plt.title('Pergerakan Kurs USD to IDR 6 Bulan Terakhir')\n",
    "plt.xlabel('Date')\n",
    "plt.ylabel('Amount in Rupiah')\n",
    "plt.xticks(rotation=45)\n",
    "plt.grid(True)\n",
    "plt.tight_layout()\n",
    "plt.show()\n",
    "\n"
   ]
  },
  {
   "cell_type": "code",
   "execution_count": 72,
   "metadata": {},
   "outputs": [
    {
     "data": {
      "text/html": [
       "<div>\n",
       "<style scoped>\n",
       "    .dataframe tbody tr th:only-of-type {\n",
       "        vertical-align: middle;\n",
       "    }\n",
       "\n",
       "    .dataframe tbody tr th {\n",
       "        vertical-align: top;\n",
       "    }\n",
       "\n",
       "    .dataframe thead th {\n",
       "        text-align: right;\n",
       "    }\n",
       "</style>\n",
       "<table border=\"1\" class=\"dataframe\">\n",
       "  <thead>\n",
       "    <tr style=\"text-align: right;\">\n",
       "      <th></th>\n",
       "      <th>date</th>\n",
       "      <th>amount_in_rupiah</th>\n",
       "    </tr>\n",
       "  </thead>\n",
       "  <tbody>\n",
       "    <tr>\n",
       "      <th>count</th>\n",
       "      <td>130</td>\n",
       "      <td>130.00</td>\n",
       "    </tr>\n",
       "    <tr>\n",
       "      <th>mean</th>\n",
       "      <td>2023-09-16 12:00:00</td>\n",
       "      <td>15,387.86</td>\n",
       "    </tr>\n",
       "    <tr>\n",
       "      <th>min</th>\n",
       "      <td>2023-06-19 00:00:00</td>\n",
       "      <td>14,935.00</td>\n",
       "    </tr>\n",
       "    <tr>\n",
       "      <th>25%</th>\n",
       "      <td>2023-08-02 06:00:00</td>\n",
       "      <td>15,180.25</td>\n",
       "    </tr>\n",
       "    <tr>\n",
       "      <th>50%</th>\n",
       "      <td>2023-09-16 12:00:00</td>\n",
       "      <td>15,367.50</td>\n",
       "    </tr>\n",
       "    <tr>\n",
       "      <th>75%</th>\n",
       "      <td>2023-10-31 18:00:00</td>\n",
       "      <td>15,576.75</td>\n",
       "    </tr>\n",
       "    <tr>\n",
       "      <th>max</th>\n",
       "      <td>2023-12-15 00:00:00</td>\n",
       "      <td>15,927.00</td>\n",
       "    </tr>\n",
       "    <tr>\n",
       "      <th>std</th>\n",
       "      <td>NaN</td>\n",
       "      <td>269.55</td>\n",
       "    </tr>\n",
       "  </tbody>\n",
       "</table>\n",
       "</div>"
      ],
      "text/plain": [
       "                      date  amount_in_rupiah\n",
       "count                  130            130.00\n",
       "mean   2023-09-16 12:00:00         15,387.86\n",
       "min    2023-06-19 00:00:00         14,935.00\n",
       "25%    2023-08-02 06:00:00         15,180.25\n",
       "50%    2023-09-16 12:00:00         15,367.50\n",
       "75%    2023-10-31 18:00:00         15,576.75\n",
       "max    2023-12-15 00:00:00         15,927.00\n",
       "std                    NaN            269.55"
      ]
     },
     "execution_count": 72,
     "metadata": {},
     "output_type": "execute_result"
    }
   ],
   "source": [
    "df.describe()"
   ]
  },
  {
   "cell_type": "markdown",
   "metadata": {},
   "source": [
    "## Analisa dan Kesimpulan Plot"
   ]
  },
  {
   "cell_type": "markdown",
   "metadata": {},
   "source": [
    "- Kurs terendah adalah 14.935 Rupiah per 1 USD di tanggal 12/07/2023\n",
    "- Kurs tertinggi adalah 15.927 Rupiah per 1 USD di tanggal 26/10/2023\n",
    "- Rata-rata Kurs 6 Bulan Terakhir adalah 15.387 Rupiah per 1 USD\n",
    "- Faktor yang menyebabkan kurs di bulan juli 2023 rendah adalah (sumber : https://market.bisnis.com/read/20230706/93/1672196/nilai-tukar-rupiah-terhadap-dolar-as-hari-ini-kamis-6-juli-2023)\n",
    "    *   Nilai Tukar Rupiah Terhadap Dolar Amerika:\n",
    "    Pada tanggal 5 Juli 2023, nilai tukar rupiah melemah sebesar 0,15 persen atau turun 23 poin menjadi Rp15.017 per dolar AS.\n",
    "\n",
    "    *   Penguatan Dolar AS dan Keputusan The Fed:\n",
    "    Penguatan dolar AS terjadi di tengah fokus pasar pada keputusan The Fed pada pertemuan akhir Juli 2023.\n",
    "    Ekspektasi 88 persen dari jajak pendapat mengindikasikan kemungkinan kenaikan suku bunga sebesar 25 basis poin.\n",
    "\n",
    "    *   Ketegangan Perdagangan AS-China:\n",
    "        -   Ketegangan perdagangan antara AS dan China meningkat karena China memblokir ekspor beberapa produk galium dan germanium, bahan utama dalam pembuatan chip, sebagai pembalasan terhadap tindakan AS.\n",
    "        \n",
    "    *   Kondisi Ekonomi China dan Dampaknya:\n",
    "        -   Ekonomi China sedang mengalami kesulitan pulih dari aturan anti-COVID-19 yang ketat selama tiga tahun.\n",
    "        -   Tindakan pembatasan ekspor China dapat memicu kekhawatiran terhadap konflik perdagangan yang lebih besar dan gangguan pada rantai pasokan global.\n",
    "\n",
    "    *   Analisis BI dan Kebijakan Moneter:\n",
    "        -   Bank Indonesia (BI) diperkirakan akan mempertahankan suku bunga acuan pada 5,75 persen hingga akhir 2023, sejalan dengan tren inflasi yang melandai.\n",
    "        -   Inflasi pada Juni 2023 berada dalam target sasaran BI (2–4 persen), memberikan ruang bagi BI untuk melonggarkan kebijakan moneter.\n",
    "        -   BI perlu mempertimbangkan stabilitas nilai tukar rupiah mengingat potensi kenaikan suku bunga oleh The Fed.\n",
    "\n",
    "    *   Prediksi Nilai Tukar Rupiah:\n",
    "        -   Monex memprediksi bahwa pada hari berikutnya, rupiah akan membuka fluktuatif namun kemungkinan ditutup melemah di rentang Rp15.000–Rp15.060 per dolar AS.\n",
    "\n",
    "- Faktor yang menyebabpak kurs di bulan oktober tinggi adalah (sumber : https://finansial.bisnis.com/read/20231026/90/1708111/rupiah-keok-kurs-di-bca-bri-bank-mandiri-bni-hampir-sentuh-rp16000)\n",
    "\n",
    "\n",
    "    *   Nilai Tukar Rupiah:\n",
    "        -   Nilai tukar rupiah terhadap dolar AS dibuka melemah ke level Rp15.907 pada 26 Oktober 2023.\n",
    "        -   Melemahnya rupiah sebesar 0,23% atau 37 poin setelah penutupan perdagangan sebelumnya.\n",
    "\n",
    "    *   Pergerakan Mata Uang Asia:\n",
    "        -   Sebagian besar mata uang Asia melemah terhadap dolar AS.\n",
    "        -   Yen Jepang melemah 0,02%, dolar Singapura turun 0,11%, dolar Hong Kong turun 0,01%, dan won Korea anjlok 0,50%.\n",
    "        -   Dolar Taiwan melemah 0,13%, peso Filipina turun 0,19%, ringgit Malaysia melemah 0,12%, sementara rupee India dan yuan China stagnan.\n",
    "\n",
    "    *   Analisis dan Prediksi:\n",
    "        -   Direktur Laba Forexindo Berjangka, Ibrahim Assuaibi, memprediksi fluktuasi nilai tukar rupiah dengan risiko penutupan melemah di rentang Rp15.850-Rp15.930 per dolar AS.\n",
    "        -   Situasi geopolitik Timur Tengah yang memicu ketidakpastian ekonomi global, kenaikan harga minyak mentah, dan penurunan tingkat konsumsi masyarakat berpengaruh pada pelemahan rupiah.\n",
    "        -   Pemerintah merespons dengan paket kebijakan ekonomi, termasuk insentif seperti PPN properti, bantuan beras, dan BLT.\n",
    "\n",
    "    *   Faktor Pengaruh Lainnya:\n",
    "        -   Pergerakan rupiah juga dipengaruhi oleh antisipasi pasar terhadap isyarat ekonomi dari AS, terutama terkait data PDB kuartal III/2023 yang akan dirilis.\n",
    "        -   Tanda-tanda ketahanan data ekonomi AS dapat memberi Federal Reserve (The Fed) ruang lebih untuk mempertahankan suku bunga yang lebih tinggi.\n",
    "- Dapat di simpulkan bahwa peristiwa perekonomian yang terjadi di dunia berdampak kepada naik turunya kurs USD saat ini."
   ]
  }
 ],
 "metadata": {
  "kernelspec": {
   "display_name": "web_scraping",
   "language": "python",
   "name": "python3"
  },
  "language_info": {
   "codemirror_mode": {
    "name": "ipython",
    "version": 3
   },
   "file_extension": ".py",
   "mimetype": "text/x-python",
   "name": "python",
   "nbconvert_exporter": "python",
   "pygments_lexer": "ipython3",
   "version": "3.10.13"
  }
 },
 "nbformat": 4,
 "nbformat_minor": 2
}
